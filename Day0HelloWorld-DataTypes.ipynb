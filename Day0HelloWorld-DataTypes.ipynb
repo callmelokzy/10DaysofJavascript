{
 "cells": [
  {
   "cell_type": "markdown",
   "id": "dc5a4cae",
   "metadata": {},
   "source": [
    "# Day 0: Hello, World!\n",
    "---x---x---x---x---x---x---x---x---x---x---x---x---\n",
    "\n",
    "\n",
    "Challenge: https://www.hackerrank.com/challenges/js10-hello-world/problem?isFullScreen=false\n",
    "\n",
    "\n",
    "Task:\n",
    "    A greeting function is provided for you in the editor below. It has one parameter, . \n",
    "    Perform the following tasks to complete this challenge:\n",
    "\n",
    "        1. Use console.log() to print Hello, World! on a new line in the console, which is also known \n",
    "    as stdout or standard output. The code for this portion of the task is already provided in the editor.\n",
    "        2. Use console.log() to print the contents of \"parameterVaraible\" (i.e., the argument passed to main).\n",
    "    \n",
    "    You've got this!\n",
    "    \n",
    " \n",
    " "
   ]
  },
  {
   "cell_type": "code",
   "execution_count": 30,
   "id": "c4be1def",
   "metadata": {},
   "outputs": [],
   "source": [
    "\n",
    "function greeting(parameterVariable) {\n",
    "    // This line prints 'Hello, World!' to the console:\n",
    "    console.log('Hello, World!');\n",
    "\n",
    "    // Write a line of code that prints parameterVariable to stdout using console.log:\n",
    "    console.log(parameterVariable);\n",
    "\n",
    "}\n"
   ]
  },
  {
   "cell_type": "code",
   "execution_count": 31,
   "id": "dab6b7af",
   "metadata": {},
   "outputs": [
    {
     "name": "stdout",
     "output_type": "stream",
     "text": [
      "Hello, World!\n",
      "Welcome to 10 Days of JavaScript!\n"
     ]
    }
   ],
   "source": [
    "greeting('Welcome to 10 Days of JavaScript!');"
   ]
  },
  {
   "cell_type": "code",
   "execution_count": 32,
   "id": "90e19f34",
   "metadata": {},
   "outputs": [
    {
     "name": "stdout",
     "output_type": "stream",
     "text": [
      "Hello, World!\n",
      "HackerRank is the best!\n"
     ]
    }
   ],
   "source": [
    "greeting('HackerRank is the best!');"
   ]
  },
  {
   "cell_type": "markdown",
   "id": "909c2a6f",
   "metadata": {},
   "source": [
    "\n",
    "\n",
    "# Day 0: Data Types\n",
    "---x---x---x---x---x---x---x---x---x---x---x---x---\n",
    "\n",
    "\n",
    "Challenge: https://www.hackerrank.com/challenges/js10-data-types/problem?isFullScreen=false&h_r=next-challenge&h_v=zen\n",
    "\n",
    "\n",
    "Task:\n",
    "    Variables named firstInteger, firstDecimal, and firstString are declared for you in the editor below. You must use the '+' operator to perform the following sequence of operations:\n",
    "\n",
    "            1. Convert secondInteger to an integer (Number type), then sum it with firstInteger and print the result on a new line using console.log.\n",
    "            2. Convert secondDecimal to a floating-point number (Number type), then sum it with firstDecimal and print the result on a new line using console.log.\n",
    "            3. Print the concatenation of firstString and secondString on a new line using console.log. Note that firstString must be printed first.\n",
    "    \n",
    " \n",
    " \n",
    " "
   ]
  },
  {
   "cell_type": "code",
   "execution_count": 1,
   "id": "6a5369f3",
   "metadata": {},
   "outputs": [],
   "source": [
    "function performOperation(secondInteger, secondDecimal, secondString) {\n",
    "    // Declare a variable named 'firstInteger' and initialize with integer value 4.\n",
    "    const firstInteger = 4;\n",
    "    \n",
    "    // Declare a variable named 'firstDecimal' and initialize with floating-point value 4.0.\n",
    "    const firstDecimal = 4.0;\n",
    "    \n",
    "    // Declare a variable named 'firstString' and initialize with the string \"HackerRank\".\n",
    "    const firstString = 'HackerRank ';\n",
    "    \n",
    "    // Write code that uses console.log to print the sum of the 'firstInteger' and 'secondInteger' (converted to a Number type) on a new line.\n",
    "    console.log(firstInteger+Number(secondInteger));\n",
    "    \n",
    "    // Write code that uses console.log to print the sum of 'firstDecimal' and 'secondDecimal' (converted to a Number type) on a new line.\n",
    "    console.log(firstDecimal+ Number(secondDecimal));\n",
    "    \n",
    "    \n",
    "    // Write code that uses console.log to print the concatenation of 'firstString' and 'secondString' on a new line. The        variable 'firstString' must be printed first.\n",
    "    console.log(firstString+secondString);\n",
    "    \n",
    "}\n"
   ]
  },
  {
   "cell_type": "code",
   "execution_count": 2,
   "id": "3cf8ee66",
   "metadata": {},
   "outputs": [
    {
     "name": "stdout",
     "output_type": "stream",
     "text": [
      "16\n",
      "8.32\n",
      "HackerRank is the best place to learn and practice coding!\n"
     ]
    }
   ],
   "source": [
    "// sample input\n",
    "\n",
    "secondInteger = 12;\n",
    "secondDecimal = 4.32;\n",
    "secondString = 'is the best place to learn and practice coding!';\n",
    "\n",
    "performOperation(secondInteger, secondDecimal, secondString);"
   ]
  },
  {
   "cell_type": "code",
   "execution_count": null,
   "id": "4c26231d",
   "metadata": {},
   "outputs": [],
   "source": []
  }
 ],
 "metadata": {
  "kernelspec": {
   "display_name": "JavaScript (Node.js)",
   "language": "javascript",
   "name": "javascript"
  },
  "language_info": {
   "file_extension": ".js",
   "mimetype": "application/javascript",
   "name": "javascript",
   "version": "18.13.0"
  }
 },
 "nbformat": 4,
 "nbformat_minor": 5
}
